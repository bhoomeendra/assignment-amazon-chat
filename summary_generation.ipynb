{
 "cells": [
  {
   "cell_type": "code",
   "execution_count": 9,
   "id": "20e318a3-5987-4bc2-adcb-f1c5f6baa875",
   "metadata": {},
   "outputs": [],
   "source": [
    "import pandas as pd\n",
    "import transformers\n",
    "import torch\n",
    "conv_data = pd.read_csv('dataset/100_conversation.csv')"
   ]
  },
  {
   "cell_type": "code",
   "execution_count": 10,
   "id": "7876d3d0-79de-4795-b5e7-15451a3d0489",
   "metadata": {},
   "outputs": [
    {
     "data": {
      "text/html": [
       "<div>\n",
       "<style scoped>\n",
       "    .dataframe tbody tr th:only-of-type {\n",
       "        vertical-align: middle;\n",
       "    }\n",
       "\n",
       "    .dataframe tbody tr th {\n",
       "        vertical-align: top;\n",
       "    }\n",
       "\n",
       "    .dataframe thead th {\n",
       "        text-align: right;\n",
       "    }\n",
       "</style>\n",
       "<table border=\"1\" class=\"dataframe\">\n",
       "  <thead>\n",
       "    <tr style=\"text-align: right;\">\n",
       "      <th></th>\n",
       "      <th>conversation</th>\n",
       "      <th>conv_id</th>\n",
       "    </tr>\n",
       "  </thead>\n",
       "  <tbody>\n",
       "    <tr>\n",
       "      <th>0</th>\n",
       "      <td>Are you a fan of Google or Microsoft?\\nBoth ar...</td>\n",
       "      <td>1</td>\n",
       "    </tr>\n",
       "    <tr>\n",
       "      <th>1</th>\n",
       "      <td>do you like dance?\\nYes  I do. Did you know Br...</td>\n",
       "      <td>2</td>\n",
       "    </tr>\n",
       "    <tr>\n",
       "      <th>2</th>\n",
       "      <td>Hey what's up do use Google very often?I reall...</td>\n",
       "      <td>3</td>\n",
       "    </tr>\n",
       "    <tr>\n",
       "      <th>3</th>\n",
       "      <td>Hi!  do you like to dance?\\nI love to dance a ...</td>\n",
       "      <td>4</td>\n",
       "    </tr>\n",
       "    <tr>\n",
       "      <th>4</th>\n",
       "      <td>do you like dance?\\nI love it. Did you know Br...</td>\n",
       "      <td>5</td>\n",
       "    </tr>\n",
       "  </tbody>\n",
       "</table>\n",
       "</div>"
      ],
      "text/plain": [
       "                                        conversation  conv_id\n",
       "0  Are you a fan of Google or Microsoft?\\nBoth ar...        1\n",
       "1  do you like dance?\\nYes  I do. Did you know Br...        2\n",
       "2  Hey what's up do use Google very often?I reall...        3\n",
       "3  Hi!  do you like to dance?\\nI love to dance a ...        4\n",
       "4  do you like dance?\\nI love it. Did you know Br...        5"
      ]
     },
     "execution_count": 10,
     "metadata": {},
     "output_type": "execute_result"
    }
   ],
   "source": [
    "conv_data.head()"
   ]
  },
  {
   "cell_type": "code",
   "execution_count": 11,
   "id": "5ee1f614-8ffb-42c1-8537-bbbf1b4fab77",
   "metadata": {},
   "outputs": [
    {
     "data": {
      "application/vnd.jupyter.widget-view+json": {
       "model_id": "e3cd5d9d16644cf58e0322972645805e",
       "version_major": 2,
       "version_minor": 0
      },
      "text/plain": [
       "Loading checkpoint shards:   0%|          | 0/2 [00:00<?, ?it/s]"
      ]
     },
     "metadata": {},
     "output_type": "display_data"
    },
    {
     "name": "stderr",
     "output_type": "stream",
     "text": [
      "Xformers is not installed correctly. If you want to use memory_efficient_attention to accelerate training use the following command to install Xformers\n",
      "pip install xformers.\n"
     ]
    }
   ],
   "source": [
    "model_name = \"meta-llama/Llama-2-7b-chat-hf\"\n",
    "\n",
    "tokenizer = AutoTokenizer.from_pretrained(model_name)\n",
    "pipeline = transformers.pipeline(\n",
    "    \"text-generation\",\n",
    "    model=model_name,\n",
    "    torch_dtype=torch.float16,\n",
    "    device_map=\"auto\" # if you have GPU\n",
    ")"
   ]
  },
  {
   "cell_type": "code",
   "execution_count": 43,
   "id": "d3061565-6351-4026-9d16-bb584178e47a",
   "metadata": {},
   "outputs": [],
   "source": [
    "from torch.utils.data import Dataset\n",
    "from transformers.pipelines.pt_utils import KeyDataset\n",
    "# Make the prompt into the standard format\n",
    "class summary_dataset(Dataset):\n",
    "    \n",
    "    def __init__(self,data):\n",
    "        self.data = data\n",
    "    \n",
    "    def __len__(self):\n",
    "        return len(self.data)\n",
    "    def __getitem__(self,idx):\n",
    "        return f'For the convertation summarize in a paragraph it such that all the\\\n",
    "        important points are covered the conversation is as follows ```{self.data.conversation[idx]}``` \\n Summary:'\n",
    "dataset = summary_dataset(conv_data)"
   ]
  },
  {
   "cell_type": "code",
   "execution_count": 54,
   "id": "1d7550fe-c7a2-4e55-bee3-56caca2e1d63",
   "metadata": {},
   "outputs": [
    {
     "data": {
      "text/plain": [
       "'For the convertation summarize in a paragraph it such that all the        important points are covered the conversation is as follows ```do you like dance?\\nYes  I do. Did you know Bruce Lee was a cha cha dancer?\\nYes he even won a hardcore cha cha championship in 1958\\nYeah. Did you know Tupac was a ballet dancer?\\nYes and he even was in the production of the nutcracker\\nYeah. Ballet dancer go through 4 pairs of shoes a week\\nYes that is a lot of shoes and also a lot of money\\nYeah true. Did you know babies are really good at dancing?\\nYes and they smile more when they hit the beat\\nYeah they are much smarter than we give them credit for\\nTrue Did you know Jackson had a patent on a dancing device?\\nYes it helped him smooth out his dance moves\\nNice. Do you like Shakespeare?\\nYes I do. Do you know that he popularized many phrases\\n Yes like good riddance, in my heart of hearts and such\\n Yes and then he also invented names like Jessica, Olivia and Miranda\\nYes. And for his works you have to use old english for it to make sense\\nYes otherwise the rhymes and puns do not seem to work out\\nYes. He lived at the same time as Pocahontas too\\nI wonder if they met how that would go from there\\nYeah interesting point. Nice chat``` \\n Summary:'"
      ]
     },
     "execution_count": 54,
     "metadata": {},
     "output_type": "execute_result"
    }
   ],
   "source": [
    "dataset[1]"
   ]
  },
  {
   "cell_type": "code",
   "execution_count": 35,
   "id": "781c85ba-5bc8-4b29-afec-678d5d2ae138",
   "metadata": {},
   "outputs": [],
   "source": [
    "from tqdm import tqdm"
   ]
  },
  {
   "cell_type": "code",
   "execution_count": 57,
   "id": "39f20b04-6b92-4c81-85cd-072b3eb5be67",
   "metadata": {},
   "outputs": [],
   "source": [
    "import ipdb"
   ]
  },
  {
   "cell_type": "code",
   "execution_count": 60,
   "id": "51d0ce5a-a94a-4e3e-be2a-c04fa2ac9c5e",
   "metadata": {},
   "outputs": [
    {
     "name": "stderr",
     "output_type": "stream",
     "text": [
      "Generation: 100%|███████████████████████████████████████████████████████████████████████████████████████████████████████████| 100/100 [10:10<00:00,  6.11s/it]\n"
     ]
    }
   ],
   "source": [
    "coversations,summarizations = [],[]\n",
    "for idx in tqdm(range(len(dataset)),desc=\"Generation: \"):\n",
    "    # print(idx)\n",
    "    out = dataset[idx]\n",
    "    \n",
    "    sequences = pipeline(out,\n",
    "                        do_sample=True,\n",
    "                        top_k=10,\n",
    "                        top_p = 0.9,\n",
    "                        temperature = 0.2,\n",
    "                        num_return_sequences=1,\n",
    "                        eos_token_id=tokenizer.eos_token_id,\n",
    "                        max_length=2048, # can increase the length of sequence \n",
    "                        )\n",
    "    # ipdb.set_trace()\n",
    "    conv,summ = sequences[0]['generated_text'].split(\"\\n Summary:\")\n",
    "    # print(conv,summ)\n",
    "    coversations.append(conv)\n",
    "    summarizations.append(summ)"
   ]
  },
  {
   "cell_type": "code",
   "execution_count": 61,
   "id": "90259e38-0f4d-4c19-a58b-f99df2ebfa62",
   "metadata": {},
   "outputs": [],
   "source": [
    "summ = pd.DataFrame({\"conversations\":coversations,\"summarizations\":summarizations})\n",
    "summ.to_csv(\"dataset/summaries.csv\",index=False)"
   ]
  },
  {
   "cell_type": "code",
   "execution_count": 62,
   "id": "bf302ca2-1f9a-4752-ac18-c975b370b238",
   "metadata": {},
   "outputs": [
    {
     "data": {
      "text/html": [
       "<div>\n",
       "<style scoped>\n",
       "    .dataframe tbody tr th:only-of-type {\n",
       "        vertical-align: middle;\n",
       "    }\n",
       "\n",
       "    .dataframe tbody tr th {\n",
       "        vertical-align: top;\n",
       "    }\n",
       "\n",
       "    .dataframe thead th {\n",
       "        text-align: right;\n",
       "    }\n",
       "</style>\n",
       "<table border=\"1\" class=\"dataframe\">\n",
       "  <thead>\n",
       "    <tr style=\"text-align: right;\">\n",
       "      <th></th>\n",
       "      <th>conversations</th>\n",
       "      <th>summarizations</th>\n",
       "    </tr>\n",
       "  </thead>\n",
       "  <tbody>\n",
       "    <tr>\n",
       "      <th>0</th>\n",
       "      <td>For the convertation summarize in a paragraph ...</td>\n",
       "      <td>The conversation is between two people who a...</td>\n",
       "    </tr>\n",
       "    <tr>\n",
       "      <th>1</th>\n",
       "      <td>For the convertation summarize in a paragraph ...</td>\n",
       "      <td>\\nThe conversation revolves around various to...</td>\n",
       "    </tr>\n",
       "    <tr>\n",
       "      <th>2</th>\n",
       "      <td>For the convertation summarize in a paragraph ...</td>\n",
       "      <td>The conversation revolves around Google, a t...</td>\n",
       "    </tr>\n",
       "    <tr>\n",
       "      <th>3</th>\n",
       "      <td>For the convertation summarize in a paragraph ...</td>\n",
       "      <td>The conversation is about dancing and differ...</td>\n",
       "    </tr>\n",
       "    <tr>\n",
       "      <th>4</th>\n",
       "      <td>For the convertation summarize in a paragraph ...</td>\n",
       "      <td>\\nThe conversation revolves around dance, Bru...</td>\n",
       "    </tr>\n",
       "  </tbody>\n",
       "</table>\n",
       "</div>"
      ],
      "text/plain": [
       "                                       conversations  \\\n",
       "0  For the convertation summarize in a paragraph ...   \n",
       "1  For the convertation summarize in a paragraph ...   \n",
       "2  For the convertation summarize in a paragraph ...   \n",
       "3  For the convertation summarize in a paragraph ...   \n",
       "4  For the convertation summarize in a paragraph ...   \n",
       "\n",
       "                                      summarizations  \n",
       "0    The conversation is between two people who a...  \n",
       "1   \\nThe conversation revolves around various to...  \n",
       "2    The conversation revolves around Google, a t...  \n",
       "3    The conversation is about dancing and differ...  \n",
       "4   \\nThe conversation revolves around dance, Bru...  "
      ]
     },
     "execution_count": 62,
     "metadata": {},
     "output_type": "execute_result"
    }
   ],
   "source": [
    "summ.head()"
   ]
  },
  {
   "cell_type": "code",
   "execution_count": 1,
   "id": "ba0cca37-6b4f-4900-93ea-7f0e3d1096f3",
   "metadata": {},
   "outputs": [],
   "source": [
    "import pandas as pd"
   ]
  },
  {
   "cell_type": "code",
   "execution_count": 2,
   "id": "0f69e9b8-f20a-4c2a-90bc-9b592a5959ff",
   "metadata": {},
   "outputs": [],
   "source": [
    "tab = pd.read_csv(\"dataset/summaries.csv\")"
   ]
  },
  {
   "cell_type": "code",
   "execution_count": 3,
   "id": "d1a82c6d-eede-463f-b092-2af758614b03",
   "metadata": {},
   "outputs": [
    {
     "data": {
      "text/html": [
       "<div>\n",
       "<style scoped>\n",
       "    .dataframe tbody tr th:only-of-type {\n",
       "        vertical-align: middle;\n",
       "    }\n",
       "\n",
       "    .dataframe tbody tr th {\n",
       "        vertical-align: top;\n",
       "    }\n",
       "\n",
       "    .dataframe thead th {\n",
       "        text-align: right;\n",
       "    }\n",
       "</style>\n",
       "<table border=\"1\" class=\"dataframe\">\n",
       "  <thead>\n",
       "    <tr style=\"text-align: right;\">\n",
       "      <th></th>\n",
       "      <th>conversations</th>\n",
       "      <th>summarizations</th>\n",
       "    </tr>\n",
       "  </thead>\n",
       "  <tbody>\n",
       "    <tr>\n",
       "      <th>0</th>\n",
       "      <td>For the convertation summarize in a paragraph ...</td>\n",
       "      <td>The conversation is between two people who a...</td>\n",
       "    </tr>\n",
       "    <tr>\n",
       "      <th>1</th>\n",
       "      <td>For the convertation summarize in a paragraph ...</td>\n",
       "      <td>\\nThe conversation revolves around various to...</td>\n",
       "    </tr>\n",
       "    <tr>\n",
       "      <th>2</th>\n",
       "      <td>For the convertation summarize in a paragraph ...</td>\n",
       "      <td>The conversation revolves around Google, a t...</td>\n",
       "    </tr>\n",
       "    <tr>\n",
       "      <th>3</th>\n",
       "      <td>For the convertation summarize in a paragraph ...</td>\n",
       "      <td>The conversation is about dancing and differ...</td>\n",
       "    </tr>\n",
       "    <tr>\n",
       "      <th>4</th>\n",
       "      <td>For the convertation summarize in a paragraph ...</td>\n",
       "      <td>\\nThe conversation revolves around dance, Bru...</td>\n",
       "    </tr>\n",
       "    <tr>\n",
       "      <th>...</th>\n",
       "      <td>...</td>\n",
       "      <td>...</td>\n",
       "    </tr>\n",
       "    <tr>\n",
       "      <th>95</th>\n",
       "      <td>For the convertation summarize in a paragraph ...</td>\n",
       "      <td>The conversation is about pets, specifically...</td>\n",
       "    </tr>\n",
       "    <tr>\n",
       "      <th>96</th>\n",
       "      <td>For the convertation summarize in a paragraph ...</td>\n",
       "      <td>\\nThe conversation covers a range of topics i...</td>\n",
       "    </tr>\n",
       "    <tr>\n",
       "      <th>97</th>\n",
       "      <td>For the convertation summarize in a paragraph ...</td>\n",
       "      <td>\\nThe conversation revolves around cooking, f...</td>\n",
       "    </tr>\n",
       "    <tr>\n",
       "      <th>98</th>\n",
       "      <td>For the convertation summarize in a paragraph ...</td>\n",
       "      <td>The conversation covers a variety of topics ...</td>\n",
       "    </tr>\n",
       "    <tr>\n",
       "      <th>99</th>\n",
       "      <td>For the convertation summarize in a paragraph ...</td>\n",
       "      <td>The conversation is about Serena Williams, a...</td>\n",
       "    </tr>\n",
       "  </tbody>\n",
       "</table>\n",
       "<p>100 rows × 2 columns</p>\n",
       "</div>"
      ],
      "text/plain": [
       "                                        conversations  \\\n",
       "0   For the convertation summarize in a paragraph ...   \n",
       "1   For the convertation summarize in a paragraph ...   \n",
       "2   For the convertation summarize in a paragraph ...   \n",
       "3   For the convertation summarize in a paragraph ...   \n",
       "4   For the convertation summarize in a paragraph ...   \n",
       "..                                                ...   \n",
       "95  For the convertation summarize in a paragraph ...   \n",
       "96  For the convertation summarize in a paragraph ...   \n",
       "97  For the convertation summarize in a paragraph ...   \n",
       "98  For the convertation summarize in a paragraph ...   \n",
       "99  For the convertation summarize in a paragraph ...   \n",
       "\n",
       "                                       summarizations  \n",
       "0     The conversation is between two people who a...  \n",
       "1    \\nThe conversation revolves around various to...  \n",
       "2     The conversation revolves around Google, a t...  \n",
       "3     The conversation is about dancing and differ...  \n",
       "4    \\nThe conversation revolves around dance, Bru...  \n",
       "..                                                ...  \n",
       "95    The conversation is about pets, specifically...  \n",
       "96   \\nThe conversation covers a range of topics i...  \n",
       "97   \\nThe conversation revolves around cooking, f...  \n",
       "98    The conversation covers a variety of topics ...  \n",
       "99    The conversation is about Serena Williams, a...  \n",
       "\n",
       "[100 rows x 2 columns]"
      ]
     },
     "execution_count": 3,
     "metadata": {},
     "output_type": "execute_result"
    }
   ],
   "source": [
    "tab"
   ]
  },
  {
   "cell_type": "code",
   "execution_count": 4,
   "id": "9a210716-e769-463b-9358-79a88d184022",
   "metadata": {},
   "outputs": [],
   "source": [
    "# Metrics Bert Score\n",
    "# NER and check its overlap (IOU)\n",
    "# Rouge and Bleu Meteor Chrf++\n",
    "# Hugging faces evaluate"
   ]
  },
  {
   "cell_type": "code",
   "execution_count": 5,
   "id": "5dbea9c4-4ff1-47cf-bdea-1bb30922e702",
   "metadata": {},
   "outputs": [],
   "source": [
    "# Hugging faces evaluate"
   ]
  },
  {
   "cell_type": "code",
   "execution_count": 6,
   "id": "9dbdff4b-b750-4ea5-ba6a-34891c788dc7",
   "metadata": {},
   "outputs": [],
   "source": [
    "from evaluate import load\n",
    "bertscore = load(\"bertscore\")"
   ]
  },
  {
   "cell_type": "code",
   "execution_count": 7,
   "id": "4f7afe60-72e2-45ef-b843-d3740fed0954",
   "metadata": {},
   "outputs": [],
   "source": [
    "from tqdm import tqdm\n",
    "# predictions = [\"hello there\", \"general kenobi\"]\n",
    "# references = [\"hello there\", \"general kenobi\"]\n",
    "def cal():\n",
    "    precision,recall,f1 = 0,0,0\n",
    "    for a,b in tqdm(tab.iterrows()):\n",
    "        # print(b['conversations'],b['summarizations'])\n",
    "        out = bertscore.compute(predictions=[b['summarizations']], references=[b['conversations']], lang=\"en\")\n",
    "        # print(out)\n",
    "        precision += out['precision'][0]\n",
    "        recall += out['recall'][0]\n",
    "        f1 += out['f1'][0]\n",
    "        \n",
    "    print(f\"The bertscore based scores \\n Precision: {precision/len(tab)} \\n Recall: {recall/len(tab)} \\n F1: {f1/len(tab)}\")"
   ]
  },
  {
   "cell_type": "code",
   "execution_count": 30,
   "id": "5e2809de-19b9-4f80-97a2-a98cb141e6e4",
   "metadata": {},
   "outputs": [
    {
     "name": "stderr",
     "output_type": "stream",
     "text": [
      "100it [00:06, 15.58it/s]"
     ]
    },
    {
     "name": "stdout",
     "output_type": "stream",
     "text": [
      "The bertscore based scores \n",
      " Precision: 0.8656682378053665 \n",
      " Recall: 0.7922304481267929 \n",
      " F1: 0.8272823590040207\n"
     ]
    },
    {
     "name": "stderr",
     "output_type": "stream",
     "text": [
      "\n"
     ]
    }
   ],
   "source": [
    "cal()"
   ]
  },
  {
   "cell_type": "code",
   "execution_count": 34,
   "id": "1d65bed5-1d49-43a0-b802-821bd02c38b4",
   "metadata": {},
   "outputs": [],
   "source": [
    "bleu_score = load('google_bleu')"
   ]
  },
  {
   "cell_type": "code",
   "execution_count": null,
   "id": "02a25150-078c-44f9-9841-380f3dd8b947",
   "metadata": {},
   "outputs": [],
   "source": [
    "def cal():\n",
    "    bleu_s = 0\n",
    "    for a,b in tqdm(tab.iterrows()):\n",
    "        # print(b['conversations'],b['summarizations'])\n",
    "        out = bleu_score.compute(predictions=[b['summarizations']], references=[b['conversations']])\n",
    "        # print(out)\n",
    "        bleu_s += out['google_bleu']\n",
    "        \n",
    "    print(f\"The BLEU score: {bleu_s/len(tab)}\")"
   ]
  },
  {
   "cell_type": "code",
   "execution_count": null,
   "id": "38c5785c-17cc-43b8-8047-f0abf3e66fdc",
   "metadata": {},
   "outputs": [
    {
     "name": "stderr",
     "output_type": "stream",
     "text": [
      "100it [00:01, 54.00it/s]"
     ]
    },
    {
     "name": "stdout",
     "output_type": "stream",
     "text": [
      "The BLEU score: 0.059690493741630685\n"
     ]
    },
    {
     "name": "stderr",
     "output_type": "stream",
     "text": [
      "\n"
     ]
    }
   ],
   "source": [
    "cal()"
   ]
  },
  {
   "cell_type": "code",
   "execution_count": 43,
   "id": "da342d23-647c-416a-af8e-cde97cf70eb4",
   "metadata": {},
   "outputs": [
    {
     "name": "stderr",
     "output_type": "stream",
     "text": [
      "100it [00:01, 94.99it/s]"
     ]
    },
    {
     "name": "stdout",
     "output_type": "stream",
     "text": [
      "The chrf score: 18.893789145698715\n"
     ]
    },
    {
     "name": "stderr",
     "output_type": "stream",
     "text": [
      "\n"
     ]
    }
   ],
   "source": [
    "chrf = load(\"chrf\")\n",
    "def cal():\n",
    "    bleu_s = 0\n",
    "    for a,b in tqdm(tab.iterrows()):\n",
    "        # print(b['conversations'],b['summarizations'])\n",
    "        out = chrf.compute(predictions=[b['summarizations']], references=[b['conversations']])\n",
    "        # print(out)\n",
    "        bleu_s += out['score']\n",
    "        \n",
    "    print(f\"The chrf score: {bleu_s/len(tab)}\")\n",
    "cal()"
   ]
  },
  {
   "cell_type": "code",
   "execution_count": 8,
   "id": "e934d7af-bd3e-4f5e-a298-0e705f927bfe",
   "metadata": {},
   "outputs": [],
   "source": [
    "rouge = load('rouge')"
   ]
  },
  {
   "cell_type": "code",
   "execution_count": 17,
   "id": "29d74f58-7665-4a4b-9573-7f0778c160d6",
   "metadata": {},
   "outputs": [],
   "source": [
    "def cal():\n",
    "    precision,recall,f1 = 0,0,0\n",
    "    for a,b in tqdm(tab.iterrows()):\n",
    "        # print(b['conversations'],b['summarizations'])\n",
    "        out = rouge.compute(predictions=[b['summarizations']], references=[b['conversations']])\n",
    "        # print(out)\n",
    "        precision += out['rouge1']\n",
    "        # recall += out['rouge2']\n",
    "        f1 += out['rougeL']\n",
    "        \n",
    "    print(f\"The Rouge based scores \\n rouge1: {precision/len(tab)} \\n rougeL: {f1/len(tab)}\")"
   ]
  },
  {
   "cell_type": "code",
   "execution_count": 18,
   "id": "4ab61626-0ae5-4c58-8633-54961ea07bfa",
   "metadata": {},
   "outputs": [
    {
     "name": "stderr",
     "output_type": "stream",
     "text": [
      "100it [00:21,  4.76it/s]\n"
     ]
    },
    {
     "name": "stdout",
     "output_type": "stream",
     "text": [
      "The Rouge based scores \n",
      " rouge1: 0.24814070160621415 \n",
      " rougeL: 0.16468335879954318\n"
     ]
    }
   ],
   "source": [
    "cal()"
   ]
  },
  {
   "cell_type": "markdown",
   "id": "ff17e902-fc44-4fa2-8d24-e97f98c0b37e",
   "metadata": {},
   "source": [
    "## Future work \n",
    "1. Generation from Mistra/GPT-4 and fine tune on llama2"
   ]
  },
  {
   "cell_type": "code",
   "execution_count": null,
   "id": "779aeac7-e70f-49f4-a59f-2bf40ee6c496",
   "metadata": {},
   "outputs": [],
   "source": []
  }
 ],
 "metadata": {
  "kernelspec": {
   "display_name": "Python 3 (ipykernel)",
   "language": "python",
   "name": "python3"
  },
  "language_info": {
   "codemirror_mode": {
    "name": "ipython",
    "version": 3
   },
   "file_extension": ".py",
   "mimetype": "text/x-python",
   "name": "python",
   "nbconvert_exporter": "python",
   "pygments_lexer": "ipython3",
   "version": "3.9.16"
  }
 },
 "nbformat": 4,
 "nbformat_minor": 5
}
